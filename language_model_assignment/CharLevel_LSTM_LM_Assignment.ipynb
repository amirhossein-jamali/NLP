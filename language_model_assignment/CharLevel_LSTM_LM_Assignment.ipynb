{
 "cells": [
  {
   "cell_type": "markdown",
   "metadata": {
    "collapsed": true,
    "pycharm": {
     "name": "#%% md\n"
    }
   },
   "source": [
    "# **CharLevel_LSTM_LM_Assignment**\n",
    "**Name:** Amirhossein Jamali\n",
    "\n",
    "**GitHub repository:** https://github.com/jamir91/NLP"
   ]
  },
  {
   "cell_type": "code",
   "execution_count": 1,
   "metadata": {
    "pycharm": {
     "name": "#%%\n"
    }
   },
   "outputs": [],
   "source": [
    "import pandas as pd\n",
    "from hazm import Normalizer"
   ]
  },
  {
   "cell_type": "code",
   "execution_count": 2,
   "metadata": {
    "pycharm": {
     "name": "#%%\n"
    }
   },
   "outputs": [],
   "source": [
    "class DataPreprocessor:\n",
    "\n",
    "    train_data = pd.DataFrame()\n",
    "    test_data = pd.DataFrame()\n",
    "\n",
    "    n_chars = 0\n",
    "\n",
    "    frequencies = {}\n",
    "    char2index = {}\n",
    "    index2char = {}\n",
    "    index = 0\n",
    "\n",
    "    def __init__(self, address='../data/'):\n",
    "        # self.frequencies = self.open_dic()\n",
    "        self.read_data(address)\n",
    "        self.clean_text()\n",
    "        self.count_chars()\n",
    "        self.tokenize()\n",
    "\n",
    "\n",
    "    def read_data(self, address):\n",
    "        self.train_data = pd.read_csv(address + 'train.csv', sep='\\t', error_bad_lines= False , encoding= 'utf-8')\n",
    "        self.train_data.drop(self.train_data[self.train_data.category=='category'].index, axis=0, inplace=True)\n",
    "        self.train_data.dropna(subset=['text'], inplace=True)\n",
    "        self.test_data = pd.read_csv(address + 'test.csv', sep='\\t', error_bad_lines= False , encoding= 'utf-8')\n",
    "        self.test_data.drop(self.test_data[self.test_data.category=='category'].index, axis=0, inplace=True)\n",
    "        self.test_data.dropna(subset=['text'], inplace=True)\n",
    "#         print(self.stop_words)\n",
    "#         print('-------------------------------------------------------------')\n",
    "#         print(self.train_data.info())\n",
    "#         print('-------------------------------------------------------------')\n",
    "#         print(self.test_data.info())\n",
    "\n",
    "    def remove_none_alpha(self, d):\n",
    "        persian_chars = u'\\u200c ‌آابپتثجچحخدذرزژسشصضطظعغفقکگلمنوهی۰۱۲۳۴۵۶۷۸۹.؟?0123456789'\n",
    "        dd = ''\n",
    "        d = d.replace('\\n', ' ')\n",
    "        for c in d:\n",
    "            if c in persian_chars:\n",
    "                dd += c\n",
    "        \n",
    "\n",
    "        return \"\\s \" + dd + \" \\e\"\n",
    "\n",
    "    @staticmethod\n",
    "    def replace_digits(d):\n",
    "        persian_digits = u'0123456789۱۲۳۴۵۶۷۸۹۰'\n",
    "        for c in d:\n",
    "            if c in persian_digits:\n",
    "                d = d.replace(c, 'N')\n",
    "        while 'NN' in d:\n",
    "            d = d.replace('NN', 'N')\n",
    "        while 'N.N' in d:\n",
    "            d = d.replace('N.N', 'N')\n",
    "\n",
    "        return d\n",
    "\n",
    "    @staticmethod\n",
    "    def char_tokenize(news):\n",
    "\n",
    "        return [char for char in news]\n",
    "\n",
    "    def clean_text(self):\n",
    "        self.train_data.drop(self.train_data[self.train_data.category=='category'].index, axis=0, inplace=True)\n",
    "        self.train_data.dropna(subset=['text'], inplace=True)\n",
    "        self.train_data = self.train_data[['text']]\n",
    "#         self.train_data = self.train_data[['category', 'text']]\n",
    "        normalizer = Normalizer()\n",
    "        self.train_data['text'] = self.train_data['text'].apply(normalizer.normalize)\n",
    "        self.train_data['text'] = self.train_data['text'].apply(self.remove_none_alpha)\n",
    "        self.train_data['text'] = self.train_data['text'].apply(self.replace_digits)\n",
    "        self.train_data['text'] = self.train_data['text'].apply(self.char_tokenize)\n",
    "#         self.train_data['text'] = self.train_data['text'].apply(self.df_stemmer)\n",
    "        self.train_data.reset_index(drop=True, inplace=True)\n",
    "        self.train_data.to_pickle('train_dataframe')\n",
    "#         print(self.train_data['text'][1])\n",
    "\n",
    "        self.test_data.drop(self.test_data[self.test_data.category=='category'].index, axis=0, inplace=True)\n",
    "        self.test_data.dropna(subset=['text'], inplace=True)\n",
    "        self.test_data = self.test_data[['text']]\n",
    "#         self.test_data = self.test_data[['category', 'text']]\n",
    "        self.test_data['text'] = self.test_data['text'].apply(normalizer.normalize)\n",
    "        self.test_data['text'] = self.test_data['text'].apply(self.remove_none_alpha)\n",
    "        self.test_data['text'] = self.test_data['text'].apply(self.replace_digits)\n",
    "        self.test_data['text'] = self.test_data['text'].apply(self.char_tokenize)\n",
    "#         self.test_data['text'] = self.test_data['text'].apply(self.df_stemmer)\n",
    "        self.test_data.reset_index(drop=True, inplace=True)\n",
    "        self.test_data.to_pickle('test_dataframe')\n",
    "#         print(self.test_data['text'][1])\n",
    "\n",
    "    def freq(self, chars):\n",
    "        for ch in chars:\n",
    "            self.n_chars += 1\n",
    "            if ch in self.frequencies:\n",
    "                self.frequencies[ch] += 1\n",
    "            else:\n",
    "                self.frequencies[ch] = 1\n",
    "\n",
    "    def count_chars(self):\n",
    "        self.train_data['text'].map(self.freq)\n",
    "        self.frequencies = dict(sorted(self.frequencies.items(), key=lambda item: item[1], reverse=True))\n",
    "        self.save_dict(self.frequencies)\n",
    "\n",
    "    def save_dict(self, d, n=200):\n",
    "        f_out = open(\"frequent.txt\", \"w\", encoding=\"utf-8\")\n",
    "        for item, count in list(d.items())[:n]:\n",
    "            f_out.write(f'{item}, {count}\\n')\n",
    "\n",
    "    def tokenize(self):\n",
    "        self.char2index = {k: v + 1 for v, k in enumerate(list(self.frequencies.keys()))}\n",
    "        self.index2char = {v + 1: k for v, k in enumerate(list(self.frequencies.keys()))}\n",
    "\n",
    "    def open_dic(self):\n",
    "        d = {}\n",
    "        with open(\"frequent_list.txt\", encoding=\"utf8\") as f:\n",
    "            for line in f:\n",
    "                (key, val) = line.split(',')\n",
    "                d[key] = val\n",
    "\n",
    "        return d\n"
   ]
  },
  {
   "cell_type": "code",
   "execution_count": 3,
   "metadata": {},
   "outputs": [],
   "source": [
    "class LanguageModel:\n",
    "    \n",
    "    def __init__(self):\n",
    "#         self.define_model()\n",
    "#         self.train_char_LSTM()\n",
    "#         self.get_next_states_and_output()\n",
    "#         self.convert_prefix_to_hiddens()\n",
    "#         self.get_probs()\n",
    "#         self.get_next_char()\n",
    "#         self.generate_text()\n",
    "#         self.get_overall_prob()\n",
    "#         self.evaluate()\n",
    "        pass\n",
    "    def define_model(self):\n",
    "        pass\n",
    "    \n",
    "    def train_char_LSTM(self):\n",
    "        pass\n",
    "    \n",
    "    def get_next_states_and_output(self):\n",
    "        pass\n",
    "    \n",
    "    def convert_prefix_to_hiddens(self):\n",
    "        pass\n",
    "    \n",
    "    def get_probs(self):\n",
    "        pass\n",
    "    \n",
    "    def get_next_char(self):\n",
    "        pass\n",
    "    \n",
    "    def generate_text(self):\n",
    "        pass\n",
    "    \n",
    "    def get_overall_prob(self):\n",
    "        pass\n",
    "    \n",
    "    def evaluate(self):\n",
    "        pass"
   ]
  },
  {
   "cell_type": "code",
   "execution_count": 4,
   "metadata": {
    "pycharm": {
     "name": "#%%\n"
    }
   },
   "outputs": [],
   "source": [
    "if __name__ == '__main__':\n",
    "    d = DataPreprocessor()"
   ]
  },
  {
   "cell_type": "code",
   "execution_count": null,
   "metadata": {
    "pycharm": {
     "name": "#%%\n"
    }
   },
   "outputs": [],
   "source": [
    "a = d.train_data['text'][8]"
   ]
  },
  {
   "cell_type": "code",
   "execution_count": null,
   "metadata": {},
   "outputs": [],
   "source": [
    "index = 0\n",
    "for i in a:\n",
    "    print(index, i)\n",
    "    index += 1"
   ]
  },
  {
   "cell_type": "code",
   "execution_count": 5,
   "metadata": {},
   "outputs": [
    {
     "data": {
      "text/plain": [
       "{' ': 32714929,\n",
       " 'ا': 19294844,\n",
       " 'ی': 12185967,\n",
       " 'ر': 11221534,\n",
       " 'ن': 8749660,\n",
       " 'د': 8605850,\n",
       " 'ه': 7812715,\n",
       " 'و': 7352556,\n",
       " 'م': 7149615,\n",
       " 'ت': 6155048,\n",
       " 'ب': 5560834,\n",
       " 'س': 3962124,\n",
       " 'ل': 3480712,\n",
       " 'ک': 3376173,\n",
       " 'ش': 3258093,\n",
       " 'ز': 2755953,\n",
       " 'گ': 1941309,\n",
       " 'ف': 1803107,\n",
       " '\\u200c': 1597861,\n",
       " 'خ': 1596153,\n",
       " 'ع': 1595400,\n",
       " 'ق': 1419533,\n",
       " 'ج': 1406612,\n",
       " 'ح': 1256529,\n",
       " '.': 985847,\n",
       " 'پ': 862128,\n",
       " 'ص': 814177,\n",
       " 'آ': 800641,\n",
       " 'N': 651560,\n",
       " 'ط': 639410,\n",
       " 'ض': 379264,\n",
       " 'چ': 366094,\n",
       " 'ظ': 265260,\n",
       " 'غ': 235077,\n",
       " 'ذ': 230921,\n",
       " '\\\\': 194044,\n",
       " 'ث': 165995,\n",
       " 'ژ': 123819,\n",
       " 's': 97022,\n",
       " 'e': 97022,\n",
       " '؟': 21428,\n",
       " '?': 113}"
      ]
     },
     "execution_count": 5,
     "metadata": {},
     "output_type": "execute_result"
    }
   ],
   "source": [
    "d.frequencies\n"
   ]
  },
  {
   "cell_type": "code",
   "execution_count": 6,
   "metadata": {},
   "outputs": [
    {
     "data": {
      "text/plain": [
       "{' ': 1,\n",
       " 'ا': 2,\n",
       " 'ی': 3,\n",
       " 'ر': 4,\n",
       " 'ن': 5,\n",
       " 'د': 6,\n",
       " 'ه': 7,\n",
       " 'و': 8,\n",
       " 'م': 9,\n",
       " 'ت': 10,\n",
       " 'ب': 11,\n",
       " 'س': 12,\n",
       " 'ل': 13,\n",
       " 'ک': 14,\n",
       " 'ش': 15,\n",
       " 'ز': 16,\n",
       " 'گ': 17,\n",
       " 'ف': 18,\n",
       " '\\u200c': 19,\n",
       " 'خ': 20,\n",
       " 'ع': 21,\n",
       " 'ق': 22,\n",
       " 'ج': 23,\n",
       " 'ح': 24,\n",
       " '.': 25,\n",
       " 'پ': 26,\n",
       " 'ص': 27,\n",
       " 'آ': 28,\n",
       " 'N': 29,\n",
       " 'ط': 30,\n",
       " 'ض': 31,\n",
       " 'چ': 32,\n",
       " 'ظ': 33,\n",
       " 'غ': 34,\n",
       " 'ذ': 35,\n",
       " '\\\\': 36,\n",
       " 'ث': 37,\n",
       " 'ژ': 38,\n",
       " 's': 39,\n",
       " 'e': 40,\n",
       " '؟': 41,\n",
       " '?': 42}"
      ]
     },
     "execution_count": 6,
     "metadata": {},
     "output_type": "execute_result"
    }
   ],
   "source": [
    "d.char2index"
   ]
  },
  {
   "cell_type": "code",
   "execution_count": 7,
   "metadata": {},
   "outputs": [
    {
     "data": {
      "text/plain": [
       "{1: ' ',\n",
       " 2: 'ا',\n",
       " 3: 'ی',\n",
       " 4: 'ر',\n",
       " 5: 'ن',\n",
       " 6: 'د',\n",
       " 7: 'ه',\n",
       " 8: 'و',\n",
       " 9: 'م',\n",
       " 10: 'ت',\n",
       " 11: 'ب',\n",
       " 12: 'س',\n",
       " 13: 'ل',\n",
       " 14: 'ک',\n",
       " 15: 'ش',\n",
       " 16: 'ز',\n",
       " 17: 'گ',\n",
       " 18: 'ف',\n",
       " 19: '\\u200c',\n",
       " 20: 'خ',\n",
       " 21: 'ع',\n",
       " 22: 'ق',\n",
       " 23: 'ج',\n",
       " 24: 'ح',\n",
       " 25: '.',\n",
       " 26: 'پ',\n",
       " 27: 'ص',\n",
       " 28: 'آ',\n",
       " 29: 'N',\n",
       " 30: 'ط',\n",
       " 31: 'ض',\n",
       " 32: 'چ',\n",
       " 33: 'ظ',\n",
       " 34: 'غ',\n",
       " 35: 'ذ',\n",
       " 36: '\\\\',\n",
       " 37: 'ث',\n",
       " 38: 'ژ',\n",
       " 39: 's',\n",
       " 40: 'e',\n",
       " 41: '؟',\n",
       " 42: '?'}"
      ]
     },
     "execution_count": 7,
     "metadata": {},
     "output_type": "execute_result"
    }
   ],
   "source": [
    "d.index2char"
   ]
  },
  {
   "cell_type": "code",
   "execution_count": null,
   "metadata": {},
   "outputs": [],
   "source": []
  }
 ],
 "metadata": {
  "kernelspec": {
   "display_name": "Python 3",
   "language": "python",
   "name": "python3"
  },
  "language_info": {
   "codemirror_mode": {
    "name": "ipython",
    "version": 3
   },
   "file_extension": ".py",
   "mimetype": "text/x-python",
   "name": "python",
   "nbconvert_exporter": "python",
   "pygments_lexer": "ipython3",
   "version": "3.8.8"
  }
 },
 "nbformat": 4,
 "nbformat_minor": 1
}