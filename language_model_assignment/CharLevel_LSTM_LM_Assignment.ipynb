{
 "cells": [
  {
   "cell_type": "markdown",
   "metadata": {
    "collapsed": true,
    "pycharm": {
     "name": "#%% md\n"
    }
   },
   "source": [
    "# **CharLevel_LSTM_LM_Assignment**\n",
    "**Name:** Amirhossein Jamali\n",
    "\n",
    "**GitHub repository:** https://github.com/jamir91/NLP"
   ]
  },
  {
   "cell_type": "code",
   "execution_count": 4,
   "outputs": [],
   "source": [
    "import pandas as pd\n",
    "from hazm import Normalizer, Stemmer"
   ],
   "metadata": {
    "collapsed": false,
    "pycharm": {
     "name": "#%%\n"
    }
   }
  },
  {
   "cell_type": "code",
   "execution_count": 5,
   "outputs": [],
   "source": [
    "class DataPreprocessor:\n",
    "\n",
    "    train_data = pd.DataFrame()\n",
    "    test_data = pd.DataFrame()\n",
    "\n",
    "    n_tokens = 0\n",
    "\n",
    "    frequencies = {}\n",
    "    charToIndex = {}\n",
    "    indexToChar = {}\n",
    "    index = 0\n",
    "\n",
    "    def __init__(self, address='../data/'):\n",
    "        # self.frequencies = self.open_dic()\n",
    "        self.read_data(address)\n",
    "        # self.plot_distribution()\n",
    "        # self.clean_text()\n",
    "        # self.count_words()\n",
    "        # self.map_word_index()\n",
    "\n",
    "\n",
    "    def read_data(self, address):\n",
    "        self.train_data = pd.read_csv(address + 'train.csv', sep='\\t', error_bad_lines= False , encoding= 'utf-8')\n",
    "        self.train_data.drop(self.train_data[self.train_data.category=='category'].index, axis=0, inplace=True)\n",
    "        self.train_data.dropna(subset=['text'], inplace=True)\n",
    "        self.test_data = pd.read_csv(address + 'test.csv', sep='\\t', error_bad_lines= False , encoding= 'utf-8')\n",
    "        self.test_data.drop(self.test_data[self.test_data.category=='category'].index, axis=0, inplace=True)\n",
    "        self.test_data.dropna(subset=['text'], inplace=True)\n",
    "#         print(self.stop_words)\n",
    "#         print('-------------------------------------------------------------')\n",
    "#         print(self.train_data.info())\n",
    "#         print('-------------------------------------------------------------')\n",
    "#         print(self.test_data.info())\n",
    "\n",
    "    def remove_none_alpha(self, d):\n",
    "        persian_chars = u'\\u200c ‌آابپتثجچحخدذرزژسشصضطظعغفقکگلمنوهی۰۱۲۳۴۵۶۷۸۹.؟?0123456789'\n",
    "        dd = ''\n",
    "        d = d.replace('\\n', ' ')\n",
    "        for c in d:\n",
    "            if c in persian_chars:\n",
    "                dd += c\n",
    "\n",
    "        return dd\n",
    "\n",
    "    @staticmethod\n",
    "    def replace_digits(d):\n",
    "        persian_digits = u'0123456789۱۲۳۴۵۶۷۸۹۰'\n",
    "        for c in d:\n",
    "            if c in persian_digits:\n",
    "                d = d.replace(c, 'N')\n",
    "        while 'NN' in d:\n",
    "            d = d.replace('NN', 'N')\n",
    "        while 'N.N' in d:\n",
    "            d = d.replace('N.N', 'N')\n",
    "\n",
    "        return d\n",
    "\n",
    "    @staticmethod\n",
    "    def char_tokenize(news):\n",
    "\n",
    "        return [char for char in news]\n",
    "\n",
    "    def clean_text(self):\n",
    "        self.train_data.drop(self.train_data[self.train_data.category=='category'].index, axis=0, inplace=True)\n",
    "        self.train_data.dropna(subset=['text'], inplace=True)\n",
    "        self.train_data = self.train_data[['category', 'text']]\n",
    "        normalizer = Normalizer()\n",
    "        self.train_data['text'] = self.train_data['text'].apply(normalizer.normalize)\n",
    "        self.train_data['text'] = self.train_data['text'].apply(self.remove_none_alpha)\n",
    "        self.train_data['text'] = self.train_data['text'].apply(self.replace_digits)\n",
    "        self.train_data['text'] = self.train_data['text'].apply(self.char_tokenize)\n",
    "        self.train_data['text'] = self.train_data['text'].apply(self.df_stemmer)\n",
    "        self.train_data.reset_index(drop=True, inplace=True)\n",
    "        self.train_data.to_pickle('train_dataframe')\n",
    "#         print(self.train_data['text'][1])\n",
    "\n",
    "        self.test_data.drop(self.test_data[self.test_data.category=='category'].index, axis=0, inplace=True)\n",
    "        self.test_data.dropna(subset=['text'], inplace=True)\n",
    "        self.test_data = self.test_data[['category', 'text']]\n",
    "        self.test_data['text'] = self.test_data['text'].apply(normalizer.normalize)\n",
    "        self.test_data['text'] = self.test_data['text'].apply(self.remove_none_alpha)\n",
    "        self.test_data['text'] = self.test_data['text'].apply(self.replace_digits)\n",
    "        self.test_data['text'] = self.test_data['text'].apply(self.char_tokenize)\n",
    "        self.test_data['text'] = self.test_data['text'].apply(self.df_stemmer)\n",
    "        self.test_data.reset_index(drop=True, inplace=True)\n",
    "        self.test_data.to_pickle('test_dataframe')\n",
    "#         print(self.test_data['text'][1])\n",
    "\n",
    "    def save_dict(self, d, n=200):\n",
    "        f_out = open(\"frequent.txt\", \"w\", encoding=\"utf-8\")\n",
    "        for item, count in list(d.items())[:n]:\n",
    "            f_out.write(f'{item}, {count}\\n')\n",
    "\n",
    "    def freq(self, tokens):\n",
    "        for t in tokens:\n",
    "            self.n_tokens += 1\n",
    "            if t in self.frequencies:\n",
    "                self.frequencies[t] += 1\n",
    "            else:\n",
    "                self.frequencies[t] = 1\n",
    "\n",
    "    def count_words(self):\n",
    "        self.train_data['text'].map(self.freq)\n",
    "        self.frequencies = dict(sorted(self.frequencies.items(), key=lambda item: item[1], reverse=True))\n",
    "        self.save_dict(self.frequencies)\n",
    "\n",
    "    def map_word_index(self):\n",
    "        self.wordToIndex = {k: v + 1 for v, k in enumerate(list(self.frequencies.keys()))}\n",
    "        self.indexToWord = {v + 1: k for v, k in enumerate(list(self.frequencies.keys()))}\n",
    "\n",
    "    def tokenize(self, tokens):\n",
    "        return [self.wordToIndex[i] for i in tokens]\n",
    "\n",
    "    def open_dic(self):\n",
    "        d = {}\n",
    "        with open(\"frequent_list.txt\", encoding=\"utf8\") as f:\n",
    "            for line in f:\n",
    "                (key, val) = line.split(',')\n",
    "                d[key] = val\n",
    "\n",
    "        return d\n"
   ],
   "metadata": {
    "collapsed": false,
    "pycharm": {
     "name": "#%%\n"
    }
   }
  },
  {
   "cell_type": "code",
   "execution_count": 7,
   "outputs": [
    {
     "ename": "NameError",
     "evalue": "name 'CNNClassifier' is not defined",
     "output_type": "error",
     "traceback": [
      "\u001B[1;31m---------------------------------------------------------------------------\u001B[0m",
      "\u001B[1;31mNameError\u001B[0m                                 Traceback (most recent call last)",
      "\u001B[1;32m<ipython-input-7-f5b0961563f4>\u001B[0m in \u001B[0;36m<module>\u001B[1;34m\u001B[0m\n\u001B[0;32m      1\u001B[0m \u001B[1;32mif\u001B[0m \u001B[0m__name__\u001B[0m \u001B[1;33m==\u001B[0m \u001B[1;34m'__main__'\u001B[0m\u001B[1;33m:\u001B[0m\u001B[1;33m\u001B[0m\u001B[1;33m\u001B[0m\u001B[0m\n\u001B[0;32m      2\u001B[0m     \u001B[0md\u001B[0m \u001B[1;33m=\u001B[0m \u001B[0mDataPreprocessor\u001B[0m\u001B[1;33m(\u001B[0m\u001B[1;33m)\u001B[0m\u001B[1;33m\u001B[0m\u001B[1;33m\u001B[0m\u001B[0m\n\u001B[1;32m----> 3\u001B[1;33m     \u001B[0mc\u001B[0m \u001B[1;33m=\u001B[0m \u001B[0mCNNClassifier\u001B[0m\u001B[1;33m(\u001B[0m\u001B[1;33m)\u001B[0m\u001B[1;33m\u001B[0m\u001B[1;33m\u001B[0m\u001B[0m\n\u001B[0m",
      "\u001B[1;31mNameError\u001B[0m: name 'CNNClassifier' is not defined"
     ]
    }
   ],
   "source": [
    "if __name__ == '__main__':\n",
    "    d = DataPreprocessor()"
   ],
   "metadata": {
    "collapsed": false,
    "pycharm": {
     "name": "#%%\n"
    }
   }
  },
  {
   "cell_type": "code",
   "execution_count": null,
   "outputs": [],
   "source": [],
   "metadata": {
    "collapsed": false,
    "pycharm": {
     "name": "#%%\n"
    }
   }
  }
 ],
 "metadata": {
  "kernelspec": {
   "name": "python3",
   "language": "python",
   "display_name": "Python 3"
  },
  "language_info": {
   "codemirror_mode": {
    "name": "ipython",
    "version": 2
   },
   "file_extension": ".py",
   "mimetype": "text/x-python",
   "name": "python",
   "nbconvert_exporter": "python",
   "pygments_lexer": "ipython2",
   "version": "2.7.6"
  }
 },
 "nbformat": 4,
 "nbformat_minor": 0
}