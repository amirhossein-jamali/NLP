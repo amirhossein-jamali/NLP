{
 "cells": [
  {
   "cell_type": "markdown",
   "metadata": {
    "collapsed": true,
    "pycharm": {
     "name": "#%% md\n"
    }
   },
   "source": []
  },
  {
   "cell_type": "markdown",
   "metadata": {},
   "source": [
    "# **Homework 2**\n",
    "**Name:** Amirhossein Jamali\n",
    "\n",
    "**GitHub repository:** https://github.com/jamir91/NLP"
   ]
  },
  {
   "cell_type": "code",
   "execution_count": 209,
   "metadata": {},
   "outputs": [],
   "source": [
    "import pandas as pd\n",
    "import numpy as np\n",
    "import matplotlib.pyplot as plt\n",
    "from bidi.algorithm import get_display\n",
    "from arabic_reshaper import reshape"
   ]
  },
  {
   "cell_type": "code",
   "execution_count": 259,
   "metadata": {
    "pycharm": {
     "name": "#%%\n"
    }
   },
   "outputs": [],
   "source": [
    "class DataPreprocessor:\n",
    "    train_data = pd.DataFrame()\n",
    "    test_data = pd.DataFrame()\n",
    "\n",
    "    def __init__(self, address='./data/'):\n",
    "        self.read_data(address)\n",
    "        self.plot_distribution()\n",
    "\n",
    "    def read_data(self, address):\n",
    "        self.train_data = pd.read_csv(address + 'train.csv', sep='\\t', error_bad_lines= False , encoding= 'utf-8')\n",
    "        self.train_data.drop(self.train_data[self.train_data.category=='category'].index, axis=0, inplace=True)\n",
    "        self.train_data.dropna(subset=['text'], inplace=True)\n",
    "        self.test_data = pd.read_csv(address + 'test.csv', sep='\\t', error_bad_lines= False , encoding= 'utf-8')\n",
    "        self.test_data.drop(self.test_data[self.test_data.category=='category'].index, axis=0, inplace=True)\n",
    "        self.test_data.dropna(subset=['text'], inplace=True)\n",
    "#         print(self.train_data.info())\n",
    "#         print('-------------------------------------------------------------')\n",
    "#         print(self.test_data.info())\n",
    "\n",
    "    def draw_plot(self, labels, counts, fname):\n",
    "        font = {\"family\": \"B Nazanin\", \"size\": 15} \n",
    "        plt.rc(\"font\", **font)\n",
    "\n",
    "        persian_labels = [get_display(reshape(label)) for label in labels]\n",
    "        fig = plt.figure(figsize = (10, 5))\n",
    "        plt.bar(persian_labels, counts, width = 0.7, color='darkblue')\n",
    "\n",
    "        for index,data in enumerate(counts):\n",
    "            plt.text(x=index, y =data+1, s=f\"{data}\", color='darkgreen', fontdict=dict(fontsize=13))\n",
    "\n",
    "        plt.savefig(fname, dpi=200)\n",
    "\n",
    "    def plot_distribution(self):\n",
    "        labels, counts = np.unique(self.train_data['category'], return_counts=True)\n",
    "        self.draw_plot(labels, counts, 'train.png')\n",
    "        print('-------------------------------------------------------------')\n",
    "        labels, counts = np.unique(self.test_data['category'], return_counts=True)\n",
    "        self.draw_plot(labels, counts, 'test.png')\n",
    "\n",
    "    def clean_text(self):\n",
    "        pass\n",
    "\n",
    "    def count_words(self):\n",
    "        pass\n",
    "\n",
    "    def mao_word_index(self):\n",
    "        pass\n",
    "\n",
    "    def tokenize(self):\n",
    "        pass"
   ]
  },
  {
   "cell_type": "code",
   "execution_count": 227,
   "metadata": {
    "pycharm": {
     "is_executing": true,
     "name": "#%%\n"
    }
   },
   "outputs": [
    {
     "name": "stdout",
     "output_type": "stream",
     "text": [
      "<class 'pandas.core.frame.DataFrame'>\n",
      "RangeIndex: 117192 entries, 0 to 117191\n",
      "Data columns (total 6 columns):\n",
      " #   Column     Non-Null Count   Dtype \n",
      "---  ------     --------------   ----- \n",
      " 0   link       117192 non-null  object\n",
      " 1   title      117161 non-null  object\n",
      " 2   code_news  117161 non-null  object\n",
      " 3   category   117161 non-null  object\n",
      " 4   date       117161 non-null  object\n",
      " 5   text       97030 non-null   object\n",
      "dtypes: object(6)\n",
      "memory usage: 5.4+ MB\n",
      "None\n",
      "<class 'pandas.core.frame.DataFrame'>\n",
      "RangeIndex: 21104 entries, 0 to 21103\n",
      "Data columns (total 6 columns):\n",
      " #   Column     Non-Null Count  Dtype \n",
      "---  ------     --------------  ----- \n",
      " 0   link       21104 non-null  object\n",
      " 1   title      21099 non-null  object\n",
      " 2   code_news  21099 non-null  object\n",
      " 3   category   21099 non-null  object\n",
      " 4   date       21099 non-null  object\n",
      " 5   text       17502 non-null  object\n",
      "dtypes: object(6)\n",
      "memory usage: 989.4+ KB\n",
      "None\n"
     ]
    }
   ],
   "source": [
    "import pandas as pd\n",
    "\n",
    "train_df = pd.read_csv('./data/train.csv', sep='\\t', error_bad_lines= False , encoding= 'utf-8')\n",
    "test_df = pd.read_csv('./data/test.csv', sep='\\t', error_bad_lines= False , encoding= 'utf-8')\n",
    "\n",
    "print(train_df.info())\n",
    "print(test_df.info())"
   ]
  },
  {
   "cell_type": "code",
   "execution_count": 98,
   "metadata": {},
   "outputs": [
    {
     "data": {
      "text/html": [
       "<div>\n",
       "<style scoped>\n",
       "    .dataframe tbody tr th:only-of-type {\n",
       "        vertical-align: middle;\n",
       "    }\n",
       "\n",
       "    .dataframe tbody tr th {\n",
       "        vertical-align: top;\n",
       "    }\n",
       "\n",
       "    .dataframe thead th {\n",
       "        text-align: right;\n",
       "    }\n",
       "</style>\n",
       "<table border=\"1\" class=\"dataframe\">\n",
       "  <thead>\n",
       "    <tr style=\"text-align: right;\">\n",
       "      <th></th>\n",
       "      <th>link</th>\n",
       "      <th>title</th>\n",
       "      <th>code_news</th>\n",
       "      <th>category</th>\n",
       "      <th>date</th>\n",
       "      <th>text</th>\n",
       "    </tr>\n",
       "  </thead>\n",
       "  <tbody>\n",
       "  </tbody>\n",
       "</table>\n",
       "</div>"
      ],
      "text/plain": [
       "Empty DataFrame\n",
       "Columns: [link, title, code_news, category, date, text]\n",
       "Index: []"
      ]
     },
     "execution_count": 98,
     "metadata": {},
     "output_type": "execute_result"
    }
   ],
   "source": [
    "train_df[train_df.category=='category']"
   ]
  },
  {
   "cell_type": "code",
   "execution_count": 97,
   "metadata": {},
   "outputs": [],
   "source": [
    "train_df.drop(train_df[train_df.category=='category'].index, axis=0, inplace=True)\n",
    "train_df.dropna(subset=['text'], inplace=True)"
   ]
  },
  {
   "cell_type": "code",
   "execution_count": 99,
   "metadata": {},
   "outputs": [
    {
     "name": "stdout",
     "output_type": "stream",
     "text": [
      "<class 'pandas.core.frame.DataFrame'>\n",
      "Int64Index: 97022 entries, 0 to 117191\n",
      "Data columns (total 6 columns):\n",
      " #   Column     Non-Null Count  Dtype \n",
      "---  ------     --------------  ----- \n",
      " 0   link       97022 non-null  object\n",
      " 1   title      97022 non-null  object\n",
      " 2   code_news  97022 non-null  object\n",
      " 3   category   97022 non-null  object\n",
      " 4   date       97022 non-null  object\n",
      " 5   text       97022 non-null  object\n",
      "dtypes: object(6)\n",
      "memory usage: 5.2+ MB\n"
     ]
    }
   ],
   "source": [
    "train_df.info()"
   ]
  },
  {
   "cell_type": "code",
   "execution_count": 204,
   "metadata": {},
   "outputs": [
    {
     "data": {
      "text/plain": [
       "category\n",
       "اجتماعی        11069\n",
       "اقتصادی         9583\n",
       "بین‌الملل      22767\n",
       "سیاسی          13647\n",
       "علمی پزشکی      9938\n",
       "فرهنگی هنری    12136\n",
       "فضای مجازی      1936\n",
       "فیلم و صوت       375\n",
       "وب‌گردی         1297\n",
       "ورزشی          14274\n",
       "dtype: int64"
      ]
     },
     "execution_count": 204,
     "metadata": {},
     "output_type": "execute_result"
    }
   ],
   "source": [
    "train_df.groupby('category').size()"
   ]
  },
  {
   "cell_type": "code",
   "execution_count": 137,
   "metadata": {},
   "outputs": [
    {
     "name": "stdout",
     "output_type": "stream",
     "text": [
      "فیلم و صوت  375\n"
     ]
    }
   ],
   "source": [
    "labels, counts = np.unique(train_df['category'], return_counts=True)\n",
    "print(labels[7], counts[7])\n"
   ]
  },
  {
   "cell_type": "code",
   "execution_count": 208,
   "metadata": {},
   "outputs": [
    {
     "data": {
      "image/png": "[encoded data removed]",
      "text/plain": [
       "<Figure size 720x360 with 1 Axes>"
      ]
     },
     "metadata": {},
     "output_type": "display_data"
    }
   ],
   "source": []
  },
  {
   "cell_type": "code",
   "execution_count": 260,
   "metadata": {
    "pycharm": {
     "is_executing": true
    }
   },
   "outputs": [
    {
     "data": {
      "text/plain": [
       "link             0\n",
       "title           31\n",
       "code_news       31\n",
       "category        31\n",
       "date            31\n",
       "text         20162\n",
       "dtype: int64"
      ]
     },
     "execution_count": 260,
     "metadata": {},
     "output_type": "execute_result"
    }
   ],
   "source": [
    "train_df.isnull().sum()"
   ]
  },
  {
   "cell_type": "code",
   "execution_count": 92,
   "metadata": {
    "pycharm": {
     "is_executing": true
    }
   },
   "outputs": [
    {
     "data": {
      "text/plain": [
       "11193     /fa/news/4994849/هیچ-گونه-تناسبی-میان-جمعیت-ای...\n",
       "13719     /fa/news/5318715/آیا-از-سخت-افزار-رایانه-چیزی-...\n",
       "20816     /fa/news/2244953/دليل-منطقي-براي-افزايش-قيمت-ب...\n",
       "23209     /fa/news/4699233/ديپلماسي-انرژي-و-توسعه-زنجيره...\n",
       "25145     /fa/news/2143701/70-درصد-در-مصرف-انرژي-صرفه-جو...\n",
       "25708     /fa/news/4296633/تخفيف-10-درصدي-تعرفه-بيمه-نام...\n",
       "26172     /fa/news/6590290/قیمت-نهاده‌های-دامی-همچنان-با...\n",
       "26707     /fa/news/4994056/زیبایی-های-شگفت-انگيز-جزیره-ی...\n",
       "27014     /fa/news/2362357/روند-مثبت-در-انتظار-بازار-سرم...\n",
       "27878     /fa/news/6550062/ورود-ارز-همراه-مسافر-تنها-تا-...\n",
       "33404     /fa/news/4906898/رئیس-کمیته-روابط-خارجی-کنگره-...\n",
       "34613     /fa/news/6709954/کشف-بسته-مشکوک-در-دفتر-عضو-دم...\n",
       "38967     /fa/news/5039955/داعشی‌ها-صدها-قبر-ايزدی‌ها-را...\n",
       "39630     /fa/news/4727929/تهران-برای-گسترش-روابط-با-کیف...\n",
       "42770        /fa/news/4201833/كريسمس-با-طعم-بحران-انگليسي\\n\n",
       "52270     /fa/news/4959010/شلیک-4600-موشک-به-اسرائیل-در-...\n",
       "53801     /fa/news/4072824/گراميداشت-ياد-شهيدان-رجايي-و-...\n",
       "57464     /fa/news/4403073/فضاسازی-برخی-رسانه‌ها-درباره-...\n",
       "57945     /fa/news/5616280/روحانی-پیروزی-قهرمانان-کشورما...\n",
       "64296     /fa/news/4437462/ارسال-سلاح-به-تروریست‌های-سور...\n",
       "65172     /fa/news/6557492/غیب‌پرور-آرمان-همه-آزادی‌خواه...\n",
       "86532             /fa/news/4180010/وای-به-حال-آقای-شهردار\\n\n",
       "90035     /fa/news/4381913/در-محضر-بزرگانارزش-واقعی-انسا...\n",
       "91777     /fa/news/4095339/جشنواره-عصر-خلاق-با-استقبال-ب...\n",
       "95425     /fa/news/4836489/راه‌اندازی-اولین-خانه‌-دوچرخه...\n",
       "99414     /fa/news/6236292/مراسم-بهترین-های-فوتسال-ایران...\n",
       "100454    /fa/news/6816475/تمامی-گلهای-لیونل-مسی-در-براب...\n",
       "107003    /fa/news/5422202/امیرمعارفه-شدتمرین-تراکتور-با...\n",
       "110223           /fa/news/5205392/ویسی-در-استقلال-می‌ماند\\n\n",
       "114873    /fa/news/6133896/ستون-های-پرسپولیس-به-لرزه-افت...\n",
       "116587    /fa/news/5739346/دلیل-انصراف-براری-از-حرکت-دوم...\n",
       "Name: link, dtype: object"
      ]
     },
     "execution_count": 92,
     "metadata": {},
     "output_type": "execute_result"
    }
   ],
   "source": [
    "train_df[train_df['category'].isnull()]['link']"
   ]
  },
  {
   "cell_type": "code",
   "execution_count": 15,
   "metadata": {
    "pycharm": {
     "is_executing": true
    }
   },
   "outputs": [],
   "source": [
    "def sent_tokenizer(text):\n",
    "    # sentence separators: ؟ . ! ?\n",
    "    seperators = \"؟.!?\"\n",
    "    pattern = r\"[^{0}]+[{0}]\".format(seperators)\n",
    "    return re.findall(pattern, text)"
   ]
  },
  {
   "cell_type": "code",
   "execution_count": 16,
   "metadata": {
    "pycharm": {
     "is_executing": true
    }
   },
   "outputs": [],
   "source": [
    "def word_tokenizer(sent):\n",
    "    seperators = \"؟!.?,:;، \\t\"\n",
    "    pattern = r\"([^{0}]+)([{0}])\".format(seperators)\n",
    "\n",
    "    words_sep = re.findall(pattern, sent)\n",
    "    words = [w for word, sep in words_sep for w in [word, sep] if w != \" \"]\n",
    "    return words"
   ]
  },
  {
   "cell_type": "code",
   "execution_count": 17,
   "metadata": {
    "pycharm": {
     "is_executing": true
    }
   },
   "outputs": [
    {
     "data": {
      "text/plain": [
       "['\\xa0وی',\n",
       " 'افزود',\n",
       " ':',\n",
       " 'ساناز',\n",
       " 'زمانی(گروه',\n",
       " 'سوشیانت)',\n",
       " 'دستیار',\n",
       " 'کارگردان',\n",
       " '،',\n",
       " 'نادر',\n",
       " 'بهرامی',\n",
       " 'عکاس',\n",
       " '،',\n",
       " 'شبنم',\n",
       " 'موتابی',\n",
       " 'و',\n",
       " 'مرضیه',\n",
       " 'زهیری',\n",
       " 'روابط',\n",
       " 'عمومی',\n",
       " 'و',\n",
       " 'گروه',\n",
       " 'آلوکاد',\n",
       " 'به',\n",
       " 'اجرای',\n",
       " 'موسیقی',\n",
       " 'دراین',\n",
       " 'نمایش\\u200cنامه',\n",
       " 'خوانی',\n",
       " 'می\\u200cپردازند',\n",
       " '.']"
      ]
     },
     "execution_count": 17,
     "metadata": {},
     "output_type": "execute_result"
    }
   ],
   "source": [
    "import re\n",
    "tokenized = [word_tokenizer(sent) for sent in sent_tokenizer(train_df['text'][200])]\n",
    "tokenized[3]"
   ]
  },
  {
   "cell_type": "code",
   "execution_count": 18,
   "metadata": {
    "pycharm": {
     "is_executing": true
    }
   },
   "outputs": [
    {
     "name": "stdout",
     "output_type": "stream",
     "text": [
      "Requirement already satisfied: hazm in c:\\users\\amirhossein\\pycharmprojects\\nlp\\venv\\lib\\site-packages (0.7.0)\n",
      "Requirement already satisfied: nltk==3.3 in c:\\users\\amirhossein\\pycharmprojects\\nlp\\venv\\lib\\site-packages (from hazm) (3.3)\n",
      "Requirement already satisfied: six in c:\\users\\amirhossein\\pycharmprojects\\nlp\\venv\\lib\\site-packages (from nltk==3.3->hazm) (1.15.0)\n"
     ]
    }
   ],
   "source": [
    "! pip install hazm"
   ]
  },
  {
   "cell_type": "code",
   "execution_count": 23,
   "metadata": {
    "pycharm": {
     "is_executing": true
    }
   },
   "outputs": [],
   "source": [
    "from __future__ import unicode_literals\n",
    "from hazm import Normalizer, Stemmer, Lemmatizer, word_tokenize"
   ]
  },
  {
   "cell_type": "code",
   "execution_count": 20,
   "metadata": {
    "pycharm": {
     "is_executing": true
    }
   },
   "outputs": [
    {
     "ename": "SyntaxError",
     "evalue": "invalid syntax (<ipython-input-20-d6719a8660e0>, line 1)",
     "output_type": "error",
     "traceback": [
      "\u001b[1;36m  File \u001b[1;32m\"<ipython-input-20-d6719a8660e0>\"\u001b[1;36m, line \u001b[1;32m1\u001b[0m\n\u001b[1;33m    word_tokenizer(sent) for sent in sent_tokenizer(train_df['text'][200])\u001b[0m\n\u001b[1;37m                           ^\u001b[0m\n\u001b[1;31mSyntaxError\u001b[0m\u001b[1;31m:\u001b[0m invalid syntax\n"
     ]
    }
   ],
   "source": [
    "word_tokenizer(sent) for sent in sent_tokenizer(train_df['text'][200])"
   ]
  },
  {
   "cell_type": "code",
   "execution_count": 35,
   "metadata": {
    "pycharm": {
     "is_executing": true
    }
   },
   "outputs": [
    {
     "name": "stdout",
     "output_type": "stream",
     "text": [
      " پیروز کرمی کارگردان نمایش نامه‌خوانی «زندگی او» در گفتگو با خبرنگار رادیو و تلویزیون باشگاه خبرنگاران گفت: این نمایش نامه به قلم ترانه برومند نوشته شده که داستان مردی را روایت می‌کند که در آستانه یکی از مأموریت‌های کاری خود از طریق دوست و کشیش متوجه مرگ همسر خود می‌گردد، سفر نیمه کاره می‌ماند و در راه این بازگشت به رازهای پنهانی از زندگی خود پی می‌برد. وی اظهار داشت: بازیگرانی چون کامبیز دیرباز، عمار تفتی، یکتا ناصر، نازنین گودرزیان، ساناز زمانی (بازیگر میهمان از گروه سوشیانت)، عباس ستارزاده و سینا افشار به ترتیب خوانش در صحنه حضور می‌یابند. وی بیان کرد: نمایش نامه‌خوانی «زندگی او» به نفع انجمن بیماری کودکان سندروم پروانه‌ای (EB) ۱۶ آذر اجرا می‌شود. وی افزود: ساناز زمانی (گروه سوشیانت) دستیار کارگردان، نادر بهرامی عکاس، شبنم موتابی و مرضیه زهیری روابط عمومی و گروه آلوکاد به اجرای موسیقی دراین نمایش‌نامه خوانی می‌پردازند. وی اظهار داشت: نمایش نامه‌خوانی «زندگی او» شنبه ۱۶ آذر ساعت ۲۰ در فرهنگسرای ارسباران واقع در پل سیدخندان خیابان جلفا به روی صحنه خواهد رفت. وی عنوان کرد: مخاطبان می‌توانند پیش فروش بلیط این نمایش نامه‌خوانی را در سایت تیوال به آدرس www. Tiwall. com و با شماره رزرو ۹۶۲۶۷۳۰-۰۹۳۵ تهیه کننده گفتنی است؛ این کارگردان بیشتر اجرای نمایش نامه‌خوانی «نیلوفر مرداب» با بازی بازیگرانی چون امین زندگانی، جلیل فرجاد و مائده طهماسبی و … که در جشنواره تئاتر شهر موفق به دریافت جایزه کارگردانی و بازیگرانی شده بود و همچنین نمایش نامه‌خوانی «من عاشق خوش گذرانی‌ام» نوشته ناتاشا محرم‌زاده با بازی امین زندگانی، نگار عابدی و سعید چنگیزیان به نفع بنیاد خیریه برکت را در فرهنگسرای نیاوران به روی صحنه برده است. انتهای پیام/ اس\n",
      "['پیروز', 'کرمی', 'کارگردان', 'نمایش', 'نامه\\u200cخوانی', '«', 'زندگی', 'او', '»', 'در', 'گفتگو', 'با', 'خبرنگار', 'رادیو', 'و', 'تلویزیون', 'باشگاه', 'خبرنگاران', 'گفت', ':', 'این', 'نمایش', 'نامه', 'به', 'قلم', 'ترانه', 'برومند', 'نوشته', 'شده', 'که', 'داستان', 'مردی', 'را', 'روایت', 'می\\u200cکند', 'که', 'در', 'آستانه', 'یکی', 'از', 'مأموریت\\u200cهای', 'کاری', 'خود', 'از', 'طریق', 'دوست', 'و', 'کشیش', 'متوجه', 'مرگ', 'همسر', 'خود', 'می\\u200cگردد', '،', 'سفر', 'نیمه', 'کاره', 'می\\u200cماند', 'و', 'در', 'راه', 'این', 'بازگشت', 'به', 'رازهای', 'پنهانی', 'از', 'زندگی', 'خود', 'پی', 'می\\u200cبرد', '.', 'وی', 'اظهار', 'داشت', ':', 'بازیگرانی', 'چون', 'کامبیز', 'دیرباز', '،', 'عمار', 'تفتی', '،', 'یکتا', 'ناصر', '،', 'نازنین', 'گودرزیان', '،', 'ساناز', 'زمانی', '(', 'بازیگر', 'میهمان', 'از', 'گروه', 'سوشیانت', ')', '،', 'عباس', 'ستارزاده', 'و', 'سینا', 'افشار', 'به', 'ترتیب', 'خوانش', 'در', 'صحنه', 'حضور', 'می\\u200cیابند', '.', 'وی', 'بیان', 'کرد', ':', 'نمایش', 'نامه\\u200cخوانی', '«', 'زندگی', 'او', '»', 'به', 'نفع', 'انجمن', 'بیماری', 'کودکان', 'سندروم', 'پروانه\\u200cای', '(', 'EB', ')', '۱۶', 'آذر', 'اجرا', 'می\\u200cشود', '.', 'وی', 'افزود', ':', 'ساناز', 'زمانی', '(', 'گروه', 'سوشیانت', ')', 'دستیار', 'کارگردان', '،', 'نادر', 'بهرامی', 'عکاس', '،', 'شبنم', 'موتابی', 'و', 'مرضیه', 'زهیری', 'روابط', 'عمومی', 'و', 'گروه', 'آلوکاد', 'به', 'اجرای', 'موسیقی', 'دراین', 'نمایش\\u200cنامه', 'خوانی', 'می\\u200cپردازند', '.', 'وی', 'اظهار', 'داشت', ':', 'نمایش', 'نامه\\u200cخوانی', '«', 'زندگی', 'او', '»', 'شنبه', '۱۶', 'آذر', 'ساعت', '۲۰', 'در', 'فرهنگسرای', 'ارسباران', 'واقع', 'در', 'پل', 'سیدخندان', 'خیابان', 'جلفا', 'به', 'روی', 'صحنه', 'خواهد_رفت', '.', 'وی', 'عنوان', 'کرد', ':', 'مخاطبان', 'می\\u200cتوانند', 'پیش', 'فروش', 'بلیط', 'این', 'نمایش', 'نامه\\u200cخوانی', 'را', 'در', 'سایت', 'تیوال', 'به', 'آدرس', 'www', '.', 'Tiwall', '.', 'com', 'و', 'با', 'شماره', 'رزرو', '۹۶۲۶۷۳۰', '-', '۰۹۳۵', 'تهیه', 'کننده', 'گفتنی', 'است', '؛', 'این', 'کارگردان', 'بیشتر', 'اجرای', 'نمایش', 'نامه\\u200cخوانی', '«', 'نیلوفر', 'مرداب', '»', 'با', 'بازی', 'بازیگرانی', 'چون', 'امین', 'زندگانی', '،', 'جلیل', 'فرجاد', 'و', 'مائده', 'طهماسبی', 'و', '…', 'که', 'در', 'جشنواره', 'تئاتر', 'شهر', 'موفق', 'به', 'دریافت', 'جایزه', 'کارگردانی', 'و', 'بازیگرانی', 'شده_بود', 'و', 'همچنین', 'نمایش', 'نامه\\u200cخوانی', '«', 'من', 'عاشق', 'خوش', 'گذرانی\\u200cام', '»', 'نوشته', 'ناتاشا', 'محرم\\u200cزاده', 'با', 'بازی', 'امین', 'زندگانی', '،', 'نگار', 'عابدی', 'و', 'سعید', 'چنگیزیان', 'به', 'نفع', 'بنیاد', 'خیریه', 'برکت', 'را', 'در', 'فرهنگسرای', 'نیاوران', 'به', 'روی', 'صحنه', 'برده_است', '.', 'انتهای', 'پیام/', 'اس']\n",
      "پیروز\n",
      "کرم\n",
      "کارگرد\n",
      "نما\n",
      "نامه‌خوان\n",
      "«\n",
      "زندگ\n",
      "او\n",
      "»\n",
      "در\n",
      "گفتگو\n",
      "با\n",
      "خبرنگار\n",
      "رادیو\n",
      "و\n",
      "تلویزیون\n",
      "باشگاه\n",
      "خبرنگار\n",
      "گف\n",
      ":\n",
      "این\n",
      "نما\n",
      "نامه\n",
      "به\n",
      "قل\n",
      "ترانه\n",
      "برومند\n",
      "نوشته\n",
      "شده\n",
      "که\n",
      "داس\n",
      "مرد\n",
      "را\n",
      "روا\n",
      "می‌کند\n",
      "که\n",
      "در\n",
      "آستانه\n",
      "یک\n",
      "از\n",
      "مأموریت\n",
      "کار\n",
      "خود\n",
      "از\n",
      "طریق\n",
      "دوس\n",
      "و\n",
      "کش\n",
      "متوجه\n",
      "مرگ\n",
      "همسر\n",
      "خود\n",
      "می‌گردد\n",
      "،\n",
      "سفر\n",
      "نیمه\n",
      "کاره\n",
      "می‌ماند\n",
      "و\n",
      "در\n",
      "راه\n",
      "این\n",
      "بازگ\n",
      "به\n",
      "راز\n",
      "پنهان\n",
      "از\n",
      "زندگ\n",
      "خود\n",
      "پ\n",
      "می‌برد\n",
      ".\n",
      "و\n",
      "اظهار\n",
      "دا\n",
      ":\n",
      "بازیگران\n",
      "چون\n",
      "کامبیز\n",
      "دیرباز\n",
      "،\n",
      "عمار\n",
      "تفت\n",
      "،\n",
      "یکتا\n",
      "ناصر\n",
      "،\n",
      "نازنین\n",
      "گودرز\n",
      "،\n",
      "ساناز\n",
      "زمان\n",
      "(\n",
      "بازیگر\n",
      "میه\n",
      "از\n",
      "گروه\n",
      "سوشیان\n",
      ")\n",
      "،\n",
      "عباس\n",
      "ستارزاده\n",
      "و\n",
      "سینا\n",
      "افشار\n",
      "به\n",
      "ترتیب\n",
      "خوان\n",
      "در\n",
      "صحنه\n",
      "حضور\n",
      "می‌یابند\n",
      ".\n",
      "و\n",
      "ب\n",
      "کرد\n",
      ":\n",
      "نما\n",
      "نامه‌خوان\n",
      "«\n",
      "زندگ\n",
      "او\n",
      "»\n",
      "به\n",
      "نفع\n",
      "انجمن\n",
      "بیمار\n",
      "کودک\n",
      "سندرو\n",
      "پروانه\n",
      "(\n",
      "EB\n",
      ")\n",
      "۱۶\n",
      "آذر\n",
      "اجرا\n",
      "می‌شود\n",
      ".\n",
      "و\n",
      "افزود\n",
      ":\n",
      "ساناز\n",
      "زمان\n",
      "(\n",
      "گروه\n",
      "سوشیان\n",
      ")\n",
      "دستیار\n",
      "کارگرد\n",
      "،\n",
      "نادر\n",
      "بهرام\n",
      "عکاس\n",
      "،\n",
      "شبن\n",
      "موتاب\n",
      "و\n",
      "مرضیه\n",
      "زهیر\n",
      "روابط\n",
      "عموم\n",
      "و\n",
      "گروه\n",
      "آلوکاد\n",
      "به\n",
      "اجرا\n",
      "موسیق\n",
      "دراین\n",
      "نمایش‌نامه\n",
      "خوان\n",
      "می‌پردازند\n",
      ".\n",
      "و\n",
      "اظهار\n",
      "دا\n",
      ":\n",
      "نما\n",
      "نامه‌خوان\n",
      "«\n",
      "زندگ\n",
      "او\n",
      "»\n",
      "شنبه\n",
      "۱۶\n",
      "آذر\n",
      "ساع\n",
      "۲۰\n",
      "در\n",
      "فرهنگسرا\n",
      "ارسبار\n",
      "واقع\n",
      "در\n",
      "پل\n",
      "سیدخند\n",
      "خیاب\n",
      "جلفا\n",
      "به\n",
      "رو\n",
      "صحنه\n",
      "خواهد_رف\n",
      ".\n",
      "و\n",
      "عنو\n",
      "کرد\n",
      ":\n",
      "مخاطب\n",
      "می‌توانند\n",
      "پ\n",
      "فرو\n",
      "بلیط\n",
      "این\n",
      "نما\n",
      "نامه‌خوان\n",
      "را\n",
      "در\n",
      "سا\n",
      "تیوال\n",
      "به\n",
      "آدرس\n",
      "www\n",
      ".\n",
      "Tiwall\n",
      ".\n",
      "com\n",
      "و\n",
      "با\n",
      "شماره\n",
      "رزرو\n",
      "۹۶۲۶۷۳۰\n",
      "-\n",
      "۰۹۳۵\n",
      "تهیه\n",
      "کننده\n",
      "گفتن\n",
      "اس\n",
      "؛\n",
      "این\n",
      "کارگرد\n",
      "ب\n",
      "اجرا\n",
      "نما\n",
      "نامه‌خوان\n",
      "«\n",
      "نیلوفر\n",
      "مرداب\n",
      "»\n",
      "با\n",
      "باز\n",
      "بازیگران\n",
      "چون\n",
      "امین\n",
      "زندگان\n",
      "،\n",
      "جلیل\n",
      "فرجاد\n",
      "و\n",
      "مائده\n",
      "طهماسب\n",
      "و\n",
      "…\n",
      "که\n",
      "در\n",
      "جشنواره\n",
      "تئا\n",
      "شهر\n",
      "موفق\n",
      "به\n",
      "دریاف\n",
      "جایزه\n",
      "کارگردان\n",
      "و\n",
      "بازیگران\n",
      "شده_بود\n",
      "و\n",
      "همچنین\n",
      "نما\n",
      "نامه‌خوان\n",
      "«\n",
      "من\n",
      "عاشق\n",
      "خو\n",
      "گذرانی\n",
      "»\n",
      "نوشته\n",
      "ناتاشا\n",
      "محرم‌زاده\n",
      "با\n",
      "باز\n",
      "امین\n",
      "زندگان\n",
      "،\n",
      "نگار\n",
      "عابد\n",
      "و\n",
      "سعید\n",
      "چنگیز\n",
      "به\n",
      "نفع\n",
      "بنیاد\n",
      "خیریه\n",
      "برک\n",
      "را\n",
      "در\n",
      "فرهنگسرا\n",
      "نیاور\n",
      "به\n",
      "رو\n",
      "صحنه\n",
      "برده_اس\n",
      ".\n",
      "انت\n",
      "پیام/\n",
      "اس\n",
      "دس\n"
     ]
    }
   ],
   "source": [
    "normalizer = Normalizer()\n",
    "tokenized = normalizer.normalize(train_df['text'][200])\n",
    "print(tokenized)\n",
    "tokenized = word_tokenize(tokenized)\n",
    "print(tokenized)\n",
    "stemmer = Stemmer()\n",
    "for i in tokenized:\n",
    "    print(stemmer.stem(i))\n",
    "    \n",
    "# tokenized = stemmer.stem(train_df['text'][200])\n",
    "\n",
    "print(stemmer.stem('دستان'))\n",
    "\n",
    "# print(tokenized)"
   ]
  },
  {
   "cell_type": "code",
   "execution_count": 261,
   "metadata": {
    "pycharm": {
     "is_executing": true
    }
   },
   "outputs": [
    {
     "name": "stderr",
     "output_type": "stream",
     "text": [
      "c:\\users\\amirhossein\\pycharmprojects\\nlp\\venv\\lib\\site-packages\\matplotlib\\backends\\backend_agg.py:240: RuntimeWarning: Glyph 108 missing from current font.\n",
      "  font.set_text(s, 0.0, flags=flags)\n",
      "c:\\users\\amirhossein\\pycharmprojects\\nlp\\venv\\lib\\site-packages\\matplotlib\\backends\\backend_agg.py:240: RuntimeWarning: Glyph 112 missing from current font.\n",
      "  font.set_text(s, 0.0, flags=flags)\n"
     ]
    },
    {
     "name": "stdout",
     "output_type": "stream",
     "text": [
      "-------------------------------------------------------------\n"
     ]
    },
    {
     "data": {
      "image/png": "[encoded data removed]",
      "text/plain": [
       "<Figure size 720x360 with 1 Axes>"
      ]
     },
     "metadata": {},
     "output_type": "display_data"
    },
    {
     "data": {
      "image/png": "[encoded data removed]",
      "text/plain": [
       "<Figure size 720x360 with 1 Axes>"
      ]
     },
     "metadata": {},
     "output_type": "display_data"
    }
   ],
   "source": [
    "if __name__ == '__main__':\n",
    "    dp = DataPreprocessor()"
   ]
  },
  {
   "cell_type": "code",
   "execution_count": null,
   "metadata": {},
   "outputs": [],
   "source": []
  }
 ],
 "metadata": {
  "kernelspec": {
   "display_name": "Python 3",
   "language": "python",
   "name": "python3"
  },
  "language_info": {
   "codemirror_mode": {
    "name": "ipython",
    "version": 3
   },
   "file_extension": ".py",
   "mimetype": "text/x-python",
   "name": "python",
   "nbconvert_exporter": "python",
   "pygments_lexer": "ipython3",
   "version": "3.7.8"
  }
 },
 "nbformat": 4,
 "nbformat_minor": 1
}
