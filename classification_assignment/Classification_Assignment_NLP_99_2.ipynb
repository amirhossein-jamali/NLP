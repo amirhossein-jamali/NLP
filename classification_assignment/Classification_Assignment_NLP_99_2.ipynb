{
 "cells": [
  {
   "cell_type": "markdown",
   "metadata": {
    "collapsed": true,
    "pycharm": {
     "name": "#%% md\n"
    }
   },
   "source": []
  },
  {
   "cell_type": "markdown",
   "metadata": {},
   "source": [
    "# **Homework 2**\n",
    "**Name:** Amirhossein Jamali\n",
    "\n",
    "**GitHub repository:** https://github.com/jamir91/NLP"
   ]
  },
  {
   "cell_type": "code",
   "execution_count": 16,
   "metadata": {
    "pycharm": {
     "is_executing": true
    }
   },
   "outputs": [],
   "source": [
    "import pandas as pd\n",
    "import numpy as np\n",
    "import matplotlib.pyplot as plt\n",
    "from bidi.algorithm import get_display\n",
    "from arabic_reshaper import reshape"
   ]
  },
  {
   "cell_type": "code",
   "execution_count": 17,
   "metadata": {
    "pycharm": {
     "is_executing": true,
     "name": "#%%\n"
    }
   },
   "outputs": [],
   "source": [
    "class DataPreprocessor:\n",
    "    train_data = pd.DataFrame()\n",
    "    test_data = pd.DataFrame()\n",
    "    cleaned_data = None\n",
    "\n",
    "    def __init__(self, address='./data/'):\n",
    "        self.read_data(address)\n",
    "        self.plot_distribution()\n",
    "\n",
    "    def read_data(self, address):\n",
    "        self.train_data = pd.read_csv(address + 'train.csv', sep='\\t', error_bad_lines= False , encoding= 'utf-8')\n",
    "        self.train_data.drop(self.train_data[self.train_data.category=='category'].index, axis=0, inplace=True)\n",
    "        self.train_data.dropna(subset=['text'], inplace=True)\n",
    "        self.test_data = pd.read_csv(address + 'test.csv', sep='\\t', error_bad_lines= False , encoding= 'utf-8')\n",
    "        self.test_data.drop(self.test_data[self.test_data.category=='category'].index, axis=0, inplace=True)\n",
    "        self.test_data.dropna(subset=['text'], inplace=True)\n",
    "#         print(self.train_data.info())\n",
    "#         print('-------------------------------------------------------------')\n",
    "#         print(self.test_data.info())\n",
    "\n",
    "    def draw_plot(self, labels, counts, fname):\n",
    "        font = {\"family\": \"B Nazanin\", \"size\": 15} \n",
    "        plt.rc(\"font\", **font)\n",
    "\n",
    "        persian_labels = [get_display(reshape(label)) for label in labels]\n",
    "        fig = plt.figure(figsize = (10, 5))\n",
    "        plt.bar(persian_labels, counts, width = 0.7, color='darkblue')\n",
    "\n",
    "        for index,data in enumerate(counts):\n",
    "            plt.text(x=index, y =data+1, s=f\"{data}\", color='darkgreen', fontdict=dict(fontsize=13))\n",
    "\n",
    "        plt.savefig(fname, dpi=200)\n",
    "\n",
    "    def plot_distribution(self):\n",
    "        labels, counts = np.unique(self.train_data['category'], return_counts=True)\n",
    "        self.draw_plot(labels, counts, 'train.png')\n",
    "        print('-------------------------------------------------------------')\n",
    "        labels, counts = np.unique(self.test_data['category'], return_counts=True)\n",
    "        self.draw_plot(labels, counts, 'test.png')\n",
    "    \n",
    "    def replace_digits(d):\n",
    "        persian_digits = u'0123456789۱۲۳۴۵۶۷۸۹۰'\n",
    "        for c in d:\n",
    "            if c in persian_digits:\n",
    "                d = d.replace(c, 'N')\n",
    "        while 'NN' in d:\n",
    "            d = d.replace('NN', 'N')\n",
    "        while 'N.N' in d:\n",
    "            d = d.replace('N.N', 'N')\n",
    "        return d\n",
    "\n",
    "    def clean_text(self):\n",
    "        pass\n",
    "\n",
    "    def count_words(self):\n",
    "        pass\n",
    "\n",
    "    def mao_word_index(self):\n",
    "        pass\n",
    "\n",
    "    def tokenize(self):\n",
    "        pass"
   ]
  },
  {
   "cell_type": "code",
   "execution_count": 30,
   "metadata": {
    "pycharm": {
     "is_executing": true,
     "name": "#%%\n"
    }
   },
   "outputs": [
    {
     "name": "stdout",
     "output_type": "stream",
     "text": [
      "<class 'pandas.core.frame.DataFrame'>\n",
      "RangeIndex: 117192 entries, 0 to 117191\n",
      "Data columns (total 6 columns):\n",
      " #   Column     Non-Null Count   Dtype \n",
      "---  ------     --------------   ----- \n",
      " 0   link       117192 non-null  object\n",
      " 1   title      117161 non-null  object\n",
      " 2   code_news  117161 non-null  object\n",
      " 3   category   117161 non-null  object\n",
      " 4   date       117161 non-null  object\n",
      " 5   text       97030 non-null   object\n",
      "dtypes: object(6)\n",
      "memory usage: 5.4+ MB\n",
      "None\n",
      "<class 'pandas.core.frame.DataFrame'>\n",
      "RangeIndex: 21104 entries, 0 to 21103\n",
      "Data columns (total 6 columns):\n",
      " #   Column     Non-Null Count  Dtype \n",
      "---  ------     --------------  ----- \n",
      " 0   link       21104 non-null  object\n",
      " 1   title      21099 non-null  object\n",
      " 2   code_news  21099 non-null  object\n",
      " 3   category   21099 non-null  object\n",
      " 4   date       21099 non-null  object\n",
      " 5   text       17502 non-null  object\n",
      "dtypes: object(6)\n",
      "memory usage: 989.4+ KB\n",
      "None\n"
     ]
    }
   ],
   "source": [
    "import pandas as pd\n",
    "\n",
    "train_df = pd.read_csv('./data/train.csv', sep='\\t', error_bad_lines= False , encoding= 'utf-8')\n",
    "test_df = pd.read_csv('./data/test.csv', sep='\\t', error_bad_lines= False , encoding= 'utf-8')\n",
    "\n",
    "print(train_df.info())\n",
    "print(test_df.info())"
   ]
  },
  {
   "cell_type": "code",
   "execution_count": 31,
   "metadata": {
    "pycharm": {
     "is_executing": true
    }
   },
   "outputs": [
    {
     "data": {
      "text/html": [
       "<div>\n",
       "<style scoped>\n",
       "    .dataframe tbody tr th:only-of-type {\n",
       "        vertical-align: middle;\n",
       "    }\n",
       "\n",
       "    .dataframe tbody tr th {\n",
       "        vertical-align: top;\n",
       "    }\n",
       "\n",
       "    .dataframe thead th {\n",
       "        text-align: right;\n",
       "    }\n",
       "</style>\n",
       "<table border=\"1\" class=\"dataframe\">\n",
       "  <thead>\n",
       "    <tr style=\"text-align: right;\">\n",
       "      <th></th>\n",
       "      <th>link</th>\n",
       "      <th>title</th>\n",
       "      <th>code_news</th>\n",
       "      <th>category</th>\n",
       "      <th>date</th>\n",
       "      <th>text</th>\n",
       "    </tr>\n",
       "  </thead>\n",
       "  <tbody>\n",
       "    <tr>\n",
       "      <th>12561</th>\n",
       "      <td>link</td>\n",
       "      <td>title</td>\n",
       "      <td>code_news</td>\n",
       "      <td>category</td>\n",
       "      <td>date</td>\n",
       "      <td>text</td>\n",
       "    </tr>\n",
       "    <tr>\n",
       "      <th>12847</th>\n",
       "      <td>link</td>\n",
       "      <td>title</td>\n",
       "      <td>code_news</td>\n",
       "      <td>category</td>\n",
       "      <td>date</td>\n",
       "      <td>text</td>\n",
       "    </tr>\n",
       "    <tr>\n",
       "      <th>14984</th>\n",
       "      <td>link</td>\n",
       "      <td>title</td>\n",
       "      <td>code_news</td>\n",
       "      <td>category</td>\n",
       "      <td>date</td>\n",
       "      <td>text</td>\n",
       "    </tr>\n",
       "    <tr>\n",
       "      <th>28402</th>\n",
       "      <td>link</td>\n",
       "      <td>title</td>\n",
       "      <td>code_news</td>\n",
       "      <td>category</td>\n",
       "      <td>date</td>\n",
       "      <td>text</td>\n",
       "    </tr>\n",
       "    <tr>\n",
       "      <th>53403</th>\n",
       "      <td>link</td>\n",
       "      <td>title</td>\n",
       "      <td>code_news</td>\n",
       "      <td>category</td>\n",
       "      <td>date</td>\n",
       "      <td>text</td>\n",
       "    </tr>\n",
       "    <tr>\n",
       "      <th>67967</th>\n",
       "      <td>link</td>\n",
       "      <td>title</td>\n",
       "      <td>code_news</td>\n",
       "      <td>category</td>\n",
       "      <td>date</td>\n",
       "      <td>text</td>\n",
       "    </tr>\n",
       "    <tr>\n",
       "      <th>80702</th>\n",
       "      <td>link</td>\n",
       "      <td>title</td>\n",
       "      <td>code_news</td>\n",
       "      <td>category</td>\n",
       "      <td>date</td>\n",
       "      <td>text</td>\n",
       "    </tr>\n",
       "    <tr>\n",
       "      <th>96991</th>\n",
       "      <td>link</td>\n",
       "      <td>title</td>\n",
       "      <td>code_news</td>\n",
       "      <td>category</td>\n",
       "      <td>date</td>\n",
       "      <td>text</td>\n",
       "    </tr>\n",
       "  </tbody>\n",
       "</table>\n",
       "</div>"
      ],
      "text/plain": [
       "       link  title  code_news  category  date  text\n",
       "12561  link  title  code_news  category  date  text\n",
       "12847  link  title  code_news  category  date  text\n",
       "14984  link  title  code_news  category  date  text\n",
       "28402  link  title  code_news  category  date  text\n",
       "53403  link  title  code_news  category  date  text\n",
       "67967  link  title  code_news  category  date  text\n",
       "80702  link  title  code_news  category  date  text\n",
       "96991  link  title  code_news  category  date  text"
      ]
     },
     "execution_count": 31,
     "metadata": {},
     "output_type": "execute_result"
    }
   ],
   "source": [
    "train_df[train_df.category=='category']"
   ]
  },
  {
   "cell_type": "code",
   "execution_count": 32,
   "metadata": {
    "pycharm": {
     "is_executing": true
    }
   },
   "outputs": [],
   "source": [
    "train_df.drop(train_df[train_df.category=='category'].index, axis=0, inplace=True)\n",
    "train_df.dropna(subset=['text'], inplace=True)"
   ]
  },
  {
   "cell_type": "code",
   "execution_count": 33,
   "metadata": {
    "pycharm": {
     "is_executing": true
    }
   },
   "outputs": [
    {
     "name": "stdout",
     "output_type": "stream",
     "text": [
      "<class 'pandas.core.frame.DataFrame'>\n",
      "Int64Index: 97022 entries, 0 to 117191\n",
      "Data columns (total 6 columns):\n",
      " #   Column     Non-Null Count  Dtype \n",
      "---  ------     --------------  ----- \n",
      " 0   link       97022 non-null  object\n",
      " 1   title      97022 non-null  object\n",
      " 2   code_news  97022 non-null  object\n",
      " 3   category   97022 non-null  object\n",
      " 4   date       97022 non-null  object\n",
      " 5   text       97022 non-null  object\n",
      "dtypes: object(6)\n",
      "memory usage: 5.2+ MB\n"
     ]
    }
   ],
   "source": [
    "train_df.info()"
   ]
  },
  {
   "cell_type": "code",
   "execution_count": 34,
   "metadata": {},
   "outputs": [],
   "source": [
    "from __future__ import unicode_literals\n",
    "from hazm import Normalizer, Stemmer, Lemmatizer, word_tokenize"
   ]
  },
  {
   "cell_type": "code",
   "execution_count": 35,
   "metadata": {
    "pycharm": {
     "is_executing": true
    }
   },
   "outputs": [],
   "source": [
    "def replace_digits(d):\n",
    "    persian_digits = u'0123456789۱۲۳۴۵۶۷۸۹۰'\n",
    "    for c in d:\n",
    "        if c in persian_digits:\n",
    "            d = d.replace(c, 'N')\n",
    "    while 'NN' in d:\n",
    "        d = d.replace('NN', 'N')\n",
    "    while 'N.N' in d:\n",
    "        d = d.replace('N.N', 'N')\n",
    "    return d"
   ]
  },
  {
   "cell_type": "code",
   "execution_count": 37,
   "metadata": {
    "pycharm": {
     "is_executing": true
    }
   },
   "outputs": [
    {
     "data": {
      "text/plain": [
       "' به گزارش حوزه موسیقی باشگاه خبرنگاران، مهدی یغمایی، خواننده\\u200cی جوان و خوش ذوق موسیقی پاپ به گفته خود یکی از نوادگان \"یغمای جندقی\" شاعر مرثیه سرای قرن 13 هجری است، وی در سال 89 در آلبوم زیبا و دلنشین \"سلام آقا\" که به پیشگاه مقدس و سرور و سالار شهیدان و خاندان پاکشان تقدیم شد، به همراه جمعی از ستارگان موسیقی پاپ به اجرای قطعات ماندگار و دلنشین پرداخت که به این بهانه به گفتگو با وی نشسته\\u200cایم. *\"آقای یغمایی\" در ساخت قطعاتی که به پیشگاه مقدس امام حسین (ع) و خاندان پاک ایشان تقدیم می\\u200cشود، چه عواملی باید وجود داشته باشد؟ *\"آقای یغمایی\" در ساخت قطعاتی که به پیشگاه مقدس امام حسین (ع) و خاندان پاک ایشان تقدیم می\\u200cشود، چه عواملی باید وجود داشته باشد؟ ساخت این قطعات، مستلزم اعتقاد قلبی عمیق است در آلبوم \"سلام آقا\" من بدون هیچ قراردادی 4 قطعه را اجرا کردم و به طور کلی از عمق وجودم به اجرای این قطعات پرداختم.در این مجموعه برای من انگیزه مالی به هیچ عنوان مطرح نبوده و وقتی این آلبوم مجوز گرفت، سجده شکر کردم. ساخت این قطعات، مستلزم اعتقاد قلبی عمیق است در آلبوم \"سلام آقا\" من بدون هیچ قراردادی 4 قطعه را اجرا کردم و به طور کلی از عمق وجودم به اجرای این قطعات پرداختم. در این مجموعه برای من انگیزه مالی به هیچ عنوان مطرح نبوده و وقتی این آلبوم مجوز گرفت، سجده شکر کردم. *اجرای این گونه قطعات با مضمون عاشورایی چه حسی را در شما برمی\\u200cانگیزد؟ *اجرای این گونه قطعات با مضمون عاشورایی چه حسی را در شما برمی\\u200cانگیزد؟ قطعاتی با مضمون حماسه عظیم کربلا، خیلی فراتر از موسیقی پاپ است در 4 قطعه اجرایی من در \"سلام آقا\" 2 قطعه دارای نوستالوژی بسیار بود و دو قطعه دیگری که دوست عزیزم \"مهدی یراحی\" به آهنگسازی آن پرداخته بود،\\u200c به فضای موسیقی پاپ، نزدیک\\u200cتر بود.در موسیقی پاپ به طور گسترده\\u200cای بحث تجارت، مطرح است و آثار تولیدی به طور قطع از جنبه مادی نیز برخوردار است، اما آثاری نظیر \"سلام آقا\" به رغم قرار گرفتن در زمره موسیقی پاپ، از این مقوله به طور کامل مبرا هستند و برای من به شخصه هیچ انگیزه و جنبه مالی در تولید این اثر وجود نداشت و تنها بر مبنای یک اعتقاد عمیق درونی بود و یقینا تا آخرین نفس در زندگیم به اجرای این گونه آثار خواهم پرداخت زیرا این موضوع برای من افتخار بزرگی است.  قطعاتی با مضمون حماسه عظیم کربلا، خیلی فراتر از موسیقی پاپ است در 4 قطعه اجرایی من در \"سلام آقا\" 2 قطعه دارای نوستالوژی بسیار بود و دو قطعه دیگری که دوست عزیزم \"مهدی یراحی\" به آهنگسازی آن پرداخته بود،\\u200c به فضای موسیقی پاپ، نزدیک\\u200cتر بود. در موسیقی پاپ به طور گسترده\\u200cای بحث تجارت، مطرح است و آثار تولیدی به طور قطع از جنبه مادی نیز برخوردار است، اما آثاری نظیر \"سلام آقا\" به رغم قرار گرفتن در زمره موسیقی پاپ، از این مقوله به طور کامل مبرا هستند و برای من به شخصه هیچ انگیزه و جنبه مالی در تولید این اثر وجود نداشت و تنها بر مبنای یک اعتقاد عمیق درونی بود و یقینا تا آخرین نفس در زندگیم به اجرای این گونه آثار خواهم پرداخت زیرا این موضوع برای من افتخار بزرگی است.'"
      ]
     },
     "execution_count": 37,
     "metadata": {},
     "output_type": "execute_result"
    }
   ],
   "source": [
    "train_df['text'][1]"
   ]
  },
  {
   "cell_type": "code",
   "execution_count": 39,
   "metadata": {
    "pycharm": {
     "is_executing": true
    }
   },
   "outputs": [
    {
     "data": {
      "text/plain": [
       "' به گزارش حوزه موسیقی باشگاه خبرنگاران، مهدی یغمایی، خواننده\\u200cی جوان و خوش ذوق موسیقی پاپ به گفته خود یکی از نوادگان «یغمای جندقی» شاعر مرثیه سرای قرن N هجری است، وی در سال N در آلبوم زیبا و دلنشین «سلام آقا» که به پیشگاه مقدس و سرور و سالار شهیدان و خاندان پاکشان تقدیم شد، به همراه جمعی از ستارگان موسیقی پاپ به اجرای قطعات ماندگار و دلنشین پرداخت که به این بهانه به گفتگو با وی نشسته\\u200cایم. * «آقای یغمایی» در ساخت قطعاتی که به پیشگاه مقدس امام حسین (ع) و خاندان پاک ایشان تقدیم می\\u200cشود، چه عواملی باید وجود داشته باشد؟ * «آقای یغمایی» در ساخت قطعاتی که به پیشگاه مقدس امام حسین (ع) و خاندان پاک ایشان تقدیم می\\u200cشود، چه عواملی باید وجود داشته باشد؟ ساخت این قطعات، مستلزم اعتقاد قلبی عمیق است در آلبوم «سلام آقا» من بدون هیچ قراردادی N قطعه را اجرا کردم و به طور کلی از عمق وجودم به اجرای این قطعات پرداختم. در این مجموعه برای من انگیزه مالی به هیچ عنوان مطرح نبوده و وقتی این آلبوم مجوز گرفت، سجده شکر کردم. ساخت این قطعات، مستلزم اعتقاد قلبی عمیق است در آلبوم «سلام آقا» من بدون هیچ قراردادی N قطعه را اجرا کردم و به طور کلی از عمق وجودم به اجرای این قطعات پرداختم. در این مجموعه برای من انگیزه مالی به هیچ عنوان مطرح نبوده و وقتی این آلبوم مجوز گرفت، سجده شکر کردم. *اجرای این گونه قطعات با مضمون عاشورایی چه حسی را در شما برمی\\u200cانگیزد؟ *اجرای این گونه قطعات با مضمون عاشورایی چه حسی را در شما برمی\\u200cانگیزد؟ قطعاتی با مضمون حماسه عظیم کربلا، خیلی فراتر از موسیقی پاپ است در N قطعه اجرایی من در «سلام آقا» N قطعه دارای نوستالوژی بسیار بود و دو قطعه دیگری که دوست عزیزم «مهدی یراحی» به آهنگسازی آن پرداخته بود، \\u200c به فضای موسیقی پاپ، نزدیک\\u200cتر بود. در موسیقی پاپ به طور گسترده\\u200cای بحث تجارت، مطرح است و آثار تولیدی به طور قطع از جنبه مادی نیز برخوردار است، اما آثاری نظیر «سلام آقا» به رغم قرار گرفتن در زمره موسیقی پاپ، از این مقوله به طور کامل مبرا هستند و برای من به شخصه هیچ انگیزه و جنبه مالی در تولید این اثر وجود نداشت و تنها بر مبنای یک اعتقاد عمیق درونی بود و یقینا تا آخرین نفس در زندگیم به اجرای این گونه آثار خواهم پرداخت زیرا این موضوع برای من افتخار بزرگی است. قطعاتی با مضمون حماسه عظیم کربلا، خیلی فراتر از موسیقی پاپ است در N قطعه اجرایی من در «سلام آقا» N قطعه دارای نوستالوژی بسیار بود و دو قطعه دیگری که دوست عزیزم «مهدی یراحی» به آهنگسازی آن پرداخته بود، \\u200c به فضای موسیقی پاپ، نزدیک\\u200cتر بود. در موسیقی پاپ به طور گسترده\\u200cای بحث تجارت، مطرح است و آثار تولیدی به طور قطع از جنبه مادی نیز برخوردار است، اما آثاری نظیر «سلام آقا» به رغم قرار گرفتن در زمره موسیقی پاپ، از این مقوله به طور کامل مبرا هستند و برای من به شخصه هیچ انگیزه و جنبه مالی در تولید این اثر وجود نداشت و تنها بر مبنای یک اعتقاد عمیق درونی بود و یقینا تا آخرین نفس در زندگیم به اجرای این گونه آثار خواهم پرداخت زیرا این موضوع برای من افتخار بزرگی است.'"
      ]
     },
     "execution_count": 39,
     "metadata": {},
     "output_type": "execute_result"
    }
   ],
   "source": [
    "train_df['text'] = train_df['text'].apply(normalizer.normalize)\n",
    "train_df['text'] = train_df['text'].apply(replace_digits)\n",
    "train_df['text'][1]"
   ]
  },
  {
   "cell_type": "code",
   "execution_count": 27,
   "metadata": {},
   "outputs": [],
   "source": [
    "normalizer = Normalizer()"
   ]
  },
  {
   "cell_type": "code",
   "execution_count": 29,
   "metadata": {},
   "outputs": [
    {
     "data": {
      "text/plain": [
       "'اصلاح نوییسه\\u200cها و استفاده از نیم\\u200cفاصله پردازش را آسان می\\u200cکند'"
      ]
     },
     "execution_count": 29,
     "metadata": {},
     "output_type": "execute_result"
    }
   ],
   "source": [
    "normalizer.normalize('اصلاح نويسه ها و استفاده از نیم‌فاصله پردازش را آسان مي كند')"
   ]
  },
  {
   "cell_type": "code",
   "execution_count": null,
   "metadata": {},
   "outputs": [],
   "source": []
  },
  {
   "cell_type": "code",
   "execution_count": null,
   "metadata": {},
   "outputs": [],
   "source": []
  },
  {
   "cell_type": "code",
   "execution_count": null,
   "metadata": {
    "pycharm": {
     "is_executing": true
    }
   },
   "outputs": [],
   "source": [
    "def sent_tokenizer(text):\n",
    "    # sentence separators: ؟ . ! ?\n",
    "    seperators = \"؟.!?\"\n",
    "    pattern = r\"[^{0}]+[{0}]\".format(seperators)\n",
    "    return re.findall(pattern, text)"
   ]
  },
  {
   "cell_type": "code",
   "execution_count": null,
   "metadata": {
    "pycharm": {
     "is_executing": true
    }
   },
   "outputs": [],
   "source": [
    "def word_tokenizer(sent):\n",
    "    seperators = \"؟!.?,:;، \\t\"\n",
    "    pattern = r\"([^{0}]+)([{0}])\".format(seperators)\n",
    "\n",
    "    words_sep = re.findall(pattern, sent)\n",
    "    words = [w for word, sep in words_sep for w in [word, sep] if w != \" \"]\n",
    "    return words"
   ]
  },
  {
   "cell_type": "code",
   "execution_count": null,
   "metadata": {
    "pycharm": {
     "is_executing": true
    }
   },
   "outputs": [],
   "source": [
    "import re\n",
    "tokenized = [word_tokenizer(sent) for sent in sent_tokenizer(train_df['text'][200])]\n",
    "tokenized[3]"
   ]
  },
  {
   "cell_type": "code",
   "execution_count": null,
   "metadata": {
    "pycharm": {
     "is_executing": true
    }
   },
   "outputs": [],
   "source": [
    "! pip install hazm"
   ]
  },
  {
   "cell_type": "code",
   "execution_count": null,
   "metadata": {
    "pycharm": {
     "is_executing": true
    }
   },
   "outputs": [],
   "source": [
    "from __future__ import unicode_literals\n",
    "from hazm import Normalizer, Stemmer, Lemmatizer, word_tokenize"
   ]
  },
  {
   "cell_type": "code",
   "execution_count": null,
   "metadata": {
    "pycharm": {
     "is_executing": true
    }
   },
   "outputs": [],
   "source": [
    "word_tokenizer(sent) for sent in sent_tokenizer(train_df['text'][200])"
   ]
  },
  {
   "cell_type": "code",
   "execution_count": null,
   "metadata": {
    "pycharm": {
     "is_executing": true
    }
   },
   "outputs": [],
   "source": [
    "normalizer = Normalizer()\n",
    "tokenized = normalizer.normalize(train_df['text'][200])\n",
    "print(tokenized)\n",
    "tokenized = word_tokenize(tokenized)\n",
    "print(tokenized)\n",
    "stemmer = Stemmer()\n",
    "for i in tokenized:\n",
    "    print(stemmer.stem(i))\n",
    "    \n",
    "# tokenized = stemmer.stem(train_df['text'][200])\n",
    "\n",
    "print(stemmer.stem('دستان'))\n",
    "\n",
    "# print(tokenized)"
   ]
  },
  {
   "cell_type": "code",
   "execution_count": null,
   "metadata": {
    "pycharm": {
     "is_executing": true
    }
   },
   "outputs": [],
   "source": [
    "if __name__ == '__main__':\n",
    "    dp = DataPreprocessor()"
   ]
  },
  {
   "cell_type": "code",
   "execution_count": null,
   "metadata": {
    "pycharm": {
     "is_executing": true
    }
   },
   "outputs": [],
   "source": []
  }
 ],
 "metadata": {
  "kernelspec": {
   "display_name": "Python 3",
   "language": "python",
   "name": "python3"
  },
  "language_info": {
   "codemirror_mode": {
    "name": "ipython",
    "version": 3
   },
   "file_extension": ".py",
   "mimetype": "text/x-python",
   "name": "python",
   "nbconvert_exporter": "python",
   "pygments_lexer": "ipython3",
   "version": "3.7.8"
  }
 },
 "nbformat": 4,
 "nbformat_minor": 1
}